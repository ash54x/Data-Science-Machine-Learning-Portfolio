{
 "cells": [
  {
   "cell_type": "markdown",
   "id": "845c9755-bf2b-4deb-ae2b-ec1a8e8c837e",
   "metadata": {},
   "source": [
    "Name: Ashley Chen\n",
    "\n",
    "GitHub user: ash54x\n",
    "\n",
    "USC ID: 8562317194"
   ]
  },
  {
   "cell_type": "markdown",
   "id": "a6440ffe-4d7f-4efa-ab79-3d16b7c3178b",
   "metadata": {},
   "source": [
    "1. Multi-class and Multi-Label Classification Using Support Vector Machines"
   ]
  },
  {
   "cell_type": "code",
   "execution_count": 1,
   "id": "31030004-b2ff-452a-a84f-65598b3274f7",
   "metadata": {},
   "outputs": [],
   "source": [
    "import pandas as pd\n",
    "import numpy as np\n",
    "from sklearn.model_selection import train_test_split\n",
    "from sklearn.metrics import accuracy_score, hamming_loss\n",
    "from sklearn.svm import SVC\n",
    "from sklearn.preprocessing import StandardScaler\n",
    "from sklearn.model_selection import GridSearchCV\n",
    "from sklearn.multioutput import MultiOutputClassifier\n",
    "from sklearn.pipeline import Pipeline                                         \n",
    "from sklearn.svm import LinearSVC\n",
    "from imblearn.over_sampling import SMOTE "
   ]
  },
  {
   "cell_type": "markdown",
   "id": "081495e4-29b5-4568-8d13-136a76cf24df",
   "metadata": {},
   "source": [
    "(a) Load Data"
   ]
  },
  {
   "cell_type": "markdown",
   "id": "2275f446-99db-4c6f-aff1-711415ab1ff9",
   "metadata": {},
   "source": [
    "data = pd.read_csv('Anuran CallsFrogs_FRCCs.csv'"
   ]
  }
 ],
 "metadata": {
  "kernelspec": {
   "display_name": "Python 3 (ipykernel)",
   "language": "python",
   "name": "python3"
  },
  "language_info": {
   "codemirror_mode": {
    "name": "ipython",
    "version": 3
   },
   "file_extension": ".py",
   "mimetype": "text/x-python",
   "name": "python",
   "nbconvert_exporter": "python",
   "pygments_lexer": "ipython3",
   "version": "3.12.7"
  }
 },
 "nbformat": 4,
 "nbformat_minor": 5
}
